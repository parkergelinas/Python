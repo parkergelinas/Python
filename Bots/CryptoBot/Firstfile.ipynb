{
 "cells": [
  {
   "cell_type": "code",
   "execution_count": 5,
   "metadata": {},
   "outputs": [],
   "source": [
    "import pandas as pd\n",
    "from sqlalchemy import create_engine\n",
    "import unicorn_binance_websocket_api as unicorn"
   ]
  },
  {
   "cell_type": "code",
   "execution_count": 6,
   "metadata": {},
   "outputs": [],
   "source": [
    "engine = create_engine('sqlite:///LivepriceDB.db')"
   ]
  },
  {
   "cell_type": "code",
   "execution_count": 7,
   "metadata": {},
   "outputs": [],
   "source": [
    "ubwa = unicorn.BinanceWebSocketApiManager(exchange='binance.com')"
   ]
  },
  {
   "cell_type": "code",
   "execution_count": 8,
   "metadata": {},
   "outputs": [
    {
     "data": {
      "text/plain": [
       "'40dc6d4e76c9-286c-88b5-6576-41c70024'"
      ]
     },
     "execution_count": 8,
     "metadata": {},
     "output_type": "execute_result"
    }
   ],
   "source": [
    "ubwa.create_stream('kline_1m', 'BTCUSDT', output='UnicornFry')"
   ]
  },
  {
   "cell_type": "code",
   "execution_count": 12,
   "metadata": {},
   "outputs": [],
   "source": [
    "while True:\n",
    "    data = ubwa.pop_stream_data_from_stream_buffer()\n",
    "    if data and len(data) > 3:\n",
    "        print(data)"
   ]
  },
  {
   "cell_type": "code",
   "execution_count": 23,
   "metadata": {},
   "outputs": [
    {
     "data": {
      "text/plain": [
       "'{\"stream\":\"btcusdt@kline_1m\",\"data\":{\"e\":\"kline\",\"E\":1654244078171,\"s\":\"BTCUSDT\",\"k\":{\"t\":1654244040000,\"T\":1654244099999,\"s\":\"BTCUSDT\",\"i\":\"1m\",\"f\":1390532717,\"L\":1390533219,\"o\":\"30512.50000000\",\"c\":\"30505.97000000\",\"h\":\"30522.01000000\",\"l\":\"30505.96000000\",\"v\":\"28.42059000\",\"n\":503,\"x\":false,\"q\":\"867315.52513130\",\"V\":\"13.50384000\",\"Q\":\"412114.93589260\",\"B\":\"0\"}}}'"
      ]
     },
     "execution_count": 23,
     "metadata": {},
     "output_type": "execute_result"
    }
   ],
   "source": [
    "data"
   ]
  }
 ],
 "metadata": {
  "interpreter": {
   "hash": "4c70b443fbb278df29730f0ae1b2d1a59ee1ffc15141e173522258f3850a348a"
  },
  "kernelspec": {
   "display_name": "Python 3.9.13 64-bit (windows store)",
   "language": "python",
   "name": "python3"
  },
  "language_info": {
   "codemirror_mode": {
    "name": "ipython",
    "version": 3
   },
   "file_extension": ".py",
   "mimetype": "text/x-python",
   "name": "python",
   "nbconvert_exporter": "python",
   "pygments_lexer": "ipython3",
   "version": "3.9.13"
  },
  "orig_nbformat": 4
 },
 "nbformat": 4,
 "nbformat_minor": 2
}
